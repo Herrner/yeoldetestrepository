{
 "cells": [
  {
   "cell_type": "code",
   "execution_count": 9,
   "metadata": {},
   "outputs": [
    {
     "name": "stdout",
     "output_type": "stream",
     "text": [
      "Jugendlich\n"
     ]
    }
   ],
   "source": [
    "age = 13\n",
    "jugendlich = age > 7 and age < 18\n",
    "erwachsen = age > 18\n",
    "if erwachsen:\n",
    "    print (\"Erwachsen\")\n",
    "if jugendlich:\n",
    "    print (\"Jugendlich\")\n",
    "    "
   ]
  }
 ],
 "metadata": {
  "kernelspec": {
   "display_name": "Python 3",
   "language": "python",
   "name": "python3"
  },
  "language_info": {
   "codemirror_mode": {
    "name": "ipython",
    "version": 3
   },
   "file_extension": ".py",
   "mimetype": "text/x-python",
   "name": "python",
   "nbconvert_exporter": "python",
   "pygments_lexer": "ipython3",
   "version": "3.6.5"
  }
 },
 "nbformat": 4,
 "nbformat_minor": 2
}
